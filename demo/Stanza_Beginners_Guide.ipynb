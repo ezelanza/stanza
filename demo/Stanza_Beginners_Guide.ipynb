{
 "cells": [
  {
   "cell_type": "markdown",
   "metadata": {
    "colab_type": "text",
    "id": "56LiYCkPM7V_"
   },
   "source": [
    "# Welcome to Stanza!\n",
    "\n",
    "![Latest Version](https://img.shields.io/pypi/v/stanza.svg?colorB=bc4545)\n",
    "![Python Versions](https://img.shields.io/pypi/pyversions/stanza.svg?colorB=bc4545)\n",
    "\n",
    "Stanza is a Python NLP toolkit that supports 60+ human languages. It is built with highly accurate neural network components that enable efficient training and evaluation with your own annotated data, and offers pretrained models on 100 treebanks. Additionally, Stanza provides a stable, officially maintained Python interface to Java Stanford CoreNLP Toolkit.\n",
    "\n",
    "In this tutorial, we will demonstrate how to set up Stanza and annotate text with its native neural network NLP models. For the use of the Python CoreNLP interface, please see other tutorials."
   ]
  },
  {
   "cell_type": "markdown",
   "metadata": {
    "colab_type": "text",
    "id": "yQff4Di5Nnq0"
   },
   "source": [
    "## 1. Installing Stanza\n",
    "\n",
    "Note that Stanza only supports Python 3.6 and above. Installing and importing Stanza are as simple as running the following commands:"
   ]
  },
  {
   "cell_type": "code",
   "execution_count": 4,
   "metadata": {
    "colab": {},
    "colab_type": "code",
    "id": "owSj1UtdEvSU"
   },
   "outputs": [],
   "source": [
    "# Install; note that the prefix \"!\" is not needed if you are running in a terminal\n",
    "#!pip install stanza\n",
    "\n",
    "# Import the package\n",
    "import stanza\n",
    "\n",
    "#https://stanfordnlp.github.io/stanza/client_regex.html"
   ]
  },
  {
   "cell_type": "markdown",
   "metadata": {
    "colab_type": "text",
    "id": "4ixllwEKeCJg"
   },
   "source": [
    "### More Information\n",
    "\n",
    "For common troubleshooting, please visit our [troubleshooting page](https://stanfordnlp.github.io/stanfordnlp/installation_usage.html#troubleshooting)."
   ]
  },
  {
   "cell_type": "markdown",
   "metadata": {
    "colab_type": "text",
    "id": "aeyPs5ARO79d"
   },
   "source": [
    "## 2. Downloading Models\n",
    "\n",
    "You can download models with the `stanza.download` command. The language can be specified with either a full language name (e.g., \"english\"), or a short code (e.g., \"en\"). \n",
    "\n",
    "By default, models will be saved to your `~/stanza_resources` directory. If you want to specify your own path to save the model files, you can pass a `dir=your_path` argument.\n"
   ]
  },
  {
   "cell_type": "code",
   "execution_count": 8,
   "metadata": {
    "colab": {},
    "colab_type": "code",
    "id": "HDwRm-KXGcYo"
   },
   "outputs": [
    {
     "name": "stdout",
     "output_type": "stream",
     "text": [
      "Downloading English model...\n"
     ]
    },
    {
     "name": "stderr",
     "output_type": "stream",
     "text": [
      "Downloading https://raw.githubusercontent.com/stanfordnlp/stanza-resources/master/resources_1.1.0.json: 122kB [00:00, 13.4MB/s]                    \n",
      "2020-11-03 10:56:55 INFO: Downloading default packages for language: en (English)...\n",
      "2020-11-03 10:56:56 INFO: File exists: /Users/emlanza/stanza_resources/en/default.zip.\n",
      "2020-11-03 10:57:01 INFO: Finished downloading models and saved to /Users/emlanza/stanza_resources.\n"
     ]
    }
   ],
   "source": [
    "# Download an English model into the default directory\n",
    "print(\"Downloading English model...\")\n",
    "stanza.download('en')\n",
    "\n",
    "# Similarly, download a (simplified) Chinese model\n",
    "# Note that you can use verbose=False to turn off all printed messages\n",
    "#print(\"Downloading Chinese model...\")\n",
    "#stanza.download('zh', verbose=False)"
   ]
  },
  {
   "cell_type": "markdown",
   "metadata": {
    "colab_type": "text",
    "id": "7HCfQ0SfdmsU"
   },
   "source": [
    "### More Information\n",
    "\n",
    "Pretrained models are provided for 60+ different languages. For all languages, available models and the corresponding short language codes, please check out the [models page](https://stanfordnlp.github.io/stanza/models.html).\n"
   ]
  },
  {
   "cell_type": "markdown",
   "metadata": {
    "colab_type": "text",
    "id": "b3-WZJrzWD2o"
   },
   "source": [
    "## 3. Processing Text\n"
   ]
  },
  {
   "cell_type": "markdown",
   "metadata": {
    "colab_type": "text",
    "id": "XrnKl2m3fq2f"
   },
   "source": [
    "### Constructing Pipeline\n",
    "\n",
    "To process a piece of text, you'll need to first construct a `Pipeline` with different `Processor` units. The pipeline is language-specific, so again you'll need to first specify the language (see examples).\n",
    "\n",
    "- By default, the pipeline will include all processors, including tokenization, multi-word token expansion, part-of-speech tagging, lemmatization, dependency parsing and named entity recognition (for supported languages). However, you can always specify what processors you want to include with the `processors` argument.\n",
    "\n",
    "- Stanza's pipeline is CUDA-aware, meaning that a CUDA-device will be used whenever it is available, otherwise CPUs will be used when a GPU is not found. You can force the pipeline to use CPU regardless by setting `use_gpu=False`.\n",
    "\n",
    "- Again, you can suppress all printed messages by setting `verbose=False`."
   ]
  },
  {
   "cell_type": "code",
   "execution_count": 3,
   "metadata": {
    "colab": {},
    "colab_type": "code",
    "id": "HbiTSBDPG53o"
   },
   "outputs": [
    {
     "name": "stderr",
     "output_type": "stream",
     "text": [
      "2020-11-03 10:52:04 INFO: Loading these models for language: en (English):\n",
      "=========================\n",
      "| Processor | Package   |\n",
      "-------------------------\n",
      "| tokenize  | ewt       |\n",
      "| pos       | ewt       |\n",
      "| lemma     | ewt       |\n",
      "| depparse  | ewt       |\n",
      "| sentiment | sstplus   |\n",
      "| ner       | ontonotes |\n",
      "=========================\n",
      "\n",
      "2020-11-03 10:52:04 INFO: Use device: cpu\n",
      "2020-11-03 10:52:04 INFO: Loading: tokenize\n",
      "2020-11-03 10:52:04 INFO: Loading: pos\n"
     ]
    },
    {
     "name": "stdout",
     "output_type": "stream",
     "text": [
      "Building an English pipeline...\n"
     ]
    },
    {
     "name": "stderr",
     "output_type": "stream",
     "text": [
      "2020-11-03 10:52:05 INFO: Loading: lemma\n",
      "2020-11-03 10:52:05 INFO: Loading: depparse\n",
      "2020-11-03 10:52:06 INFO: Loading: sentiment\n",
      "2020-11-03 10:52:07 INFO: Loading: ner\n",
      "2020-11-03 10:52:08 INFO: Done loading processors!\n"
     ]
    },
    {
     "name": "stdout",
     "output_type": "stream",
     "text": [
      "Building a Chinese pipeline...\n"
     ]
    }
   ],
   "source": [
    "# Build an English pipeline, with all processors by default\n",
    "print(\"Building an English pipeline...\")\n",
    "en_nlp = stanza.Pipeline('en')\n",
    "\n",
    "# Build a Chinese pipeline, with customized processor list and no logging, and force it to use CPU\n",
    "#print(\"Building a Chinese pipeline...\")\n",
    "#zh_nlp = stanza.Pipeline('zh', processors='tokenize,lemma,pos,depparse', verbose=False, use_gpu=False)"
   ]
  },
  {
   "cell_type": "markdown",
   "metadata": {
    "colab_type": "text",
    "id": "Go123Bx8e1wt"
   },
   "source": [
    "### Annotating Text\n",
    "\n",
    "After a pipeline is successfully constructed, you can get annotations of a piece of text simply by passing the string into the pipeline object. The pipeline will return a `Document` object, which can be used to access detailed annotations from. For example:\n"
   ]
  },
  {
   "cell_type": "code",
   "execution_count": 16,
   "metadata": {
    "colab": {},
    "colab_type": "code",
    "id": "k_p0h1UTHDMm"
   },
   "outputs": [
    {
     "name": "stdout",
     "output_type": "stream",
     "text": [
      "<class 'stanza.models.common.doc.Document'>\n"
     ]
    }
   ],
   "source": [
    "# Processing English text\n",
    "en_doc = en_nlp(\"I deny that\")\n",
    "print(type(en_doc))\n",
    "\n",
    "# Processing Chinese text\n",
    "#zh_doc = zh_nlp(\"达沃斯世界经济论坛是每年全球政商界领袖聚在一起的年度盛事。\")\n",
    "#print(type(zh_doc))"
   ]
  },
  {
   "cell_type": "markdown",
   "metadata": {
    "colab_type": "text",
    "id": "DavwCP9egzNZ"
   },
   "source": [
    "### More Information\n",
    "\n",
    "For more information on how to construct a pipeline and information on different processors, please visit our [pipeline page](https://stanfordnlp.github.io/stanfordnlp/pipeline.html)."
   ]
  },
  {
   "cell_type": "markdown",
   "metadata": {
    "colab_type": "text",
    "id": "O_PYLEGziQWR"
   },
   "source": [
    "## 4. Accessing Annotations\n",
    "\n",
    "Annotations can be accessed from the returned `Document` object. \n",
    "\n",
    "A `Document` contains a list of `Sentence`s, and a `Sentence` contains a list of `Token`s and `Word`s. For the most part `Token`s and `Word`s overlap, but some tokens can be divided into mutiple words, for instance the French token `aux` is divided into the words `à` and `les`, while in English a word and a token are equivalent. Note that dependency parses are derived over `Word`s.\n",
    "\n",
    "Additionally, a `Span` object is used to represent annotations that are part of a document, such as named entity mentions.\n",
    "\n",
    "\n",
    "The following example iterate over all English sentences and words, and print the word information one by one:"
   ]
  },
  {
   "cell_type": "code",
   "execution_count": 17,
   "metadata": {
    "colab": {},
    "colab_type": "code",
    "id": "B5691SpFHFZ6"
   },
   "outputs": [
    {
     "name": "stdout",
     "output_type": "stream",
     "text": [
      "[Sentence 1]\n",
      "I           \tI           \tPRON  \t2\tnsubj       \n",
      "deny        \tdeny        \tVERB  \t0\troot        \n",
      "that        \tthat        \tPRON  \t2\tobj         \n",
      "\n"
     ]
    }
   ],
   "source": [
    "for i, sent in enumerate(en_doc.sentences):\n",
    "    print(\"[Sentence {}]\".format(i+1))\n",
    "    for word in sent.words:\n",
    "        print(\"{:12s}\\t{:12s}\\t{:6s}\\t{:d}\\t{:12s}\".format(\\\n",
    "              word.text, word.lemma, word.pos, word.head, word.deprel))\n",
    "    print(\"\")"
   ]
  },
  {
   "cell_type": "markdown",
   "metadata": {
    "colab_type": "text",
    "id": "-AUkCkNIrusq"
   },
   "source": [
    "The following example iterate over all extracted named entity mentions and print out their character spans and types."
   ]
  },
  {
   "cell_type": "code",
   "execution_count": 18,
   "metadata": {
    "colab": {},
    "colab_type": "code",
    "id": "5Uu0-WmvsnlK"
   },
   "outputs": [
    {
     "name": "stdout",
     "output_type": "stream",
     "text": [
      "Mention text\tType\tStart-End\n"
     ]
    }
   ],
   "source": [
    "print(\"Mention text\\tType\\tStart-End\")\n",
    "for ent in en_doc.ents:\n",
    "    print(\"{}\\t{}\\t{}-{}\".format(ent.text, ent.type, ent.start_char, ent.end_char))"
   ]
  },
  {
   "cell_type": "markdown",
   "metadata": {
    "colab_type": "text",
    "id": "dUhWAs8pnnHT"
   },
   "source": [
    "Alternatively, you can directly print a `Word` object to view all its annotations as a Python dict:"
   ]
  },
  {
   "cell_type": "code",
   "execution_count": 12,
   "metadata": {
    "colab": {},
    "colab_type": "code",
    "id": "6_UafNb7HHIg"
   },
   "outputs": [
    {
     "name": "stdout",
     "output_type": "stream",
     "text": [
      "{\n",
      "  \"id\": 1,\n",
      "  \"text\": \"Oscar\",\n",
      "  \"lemma\": \"Oscar\",\n",
      "  \"upos\": \"PROPN\",\n",
      "  \"xpos\": \"NNP\",\n",
      "  \"feats\": \"Number=Sing\",\n",
      "  \"head\": 2,\n",
      "  \"deprel\": \"nsubj\",\n",
      "  \"misc\": \"start_char=0|end_char=5\"\n",
      "}\n"
     ]
    }
   ],
   "source": [
    "word = en_doc.sentences[0].words[0]\n",
    "print(word)"
   ]
  },
  {
   "cell_type": "markdown",
   "metadata": {
    "colab_type": "text",
    "id": "TAQlOsuRoq2V"
   },
   "source": [
    "### More Information\n",
    "\n",
    "For all information on different data objects, please visit our [data objects page](https://stanfordnlp.github.io/stanza/data_objects.html)."
   ]
  },
  {
   "cell_type": "markdown",
   "metadata": {
    "colab_type": "text",
    "id": "hiiWHxYPpmhd"
   },
   "source": [
    "## 5. Resources\n",
    "\n",
    "Apart from this interactive tutorial, we also provide tutorials on our website that cover a variety of use cases such as how to use different model \"packages\" for a language, how to use spaCy as a tokenizer, how to process pretokenized text without running the tokenizer, etc. For these tutorials please visit [our Tutorials page](https://stanfordnlp.github.io/stanza/tutorials.html).\n",
    "\n",
    "Other resources that you may find helpful include:\n",
    "\n",
    "- [Stanza Homepage](https://stanfordnlp.github.io/stanza/index.html)\n",
    "- [FAQs](https://stanfordnlp.github.io/stanza/faq.html)\n",
    "- [GitHub Repo](https://github.com/stanfordnlp/stanza)\n",
    "- [Reporting Issues](https://github.com/stanfordnlp/stanza/issues)\n",
    "- [Stanza System Description Paper](http://arxiv.org/abs/2003.07082)\n"
   ]
  },
  {
   "cell_type": "code",
   "execution_count": null,
   "metadata": {},
   "outputs": [],
   "source": []
  },
  {
   "cell_type": "code",
   "execution_count": 13,
   "metadata": {},
   "outputs": [
    {
     "name": "stderr",
     "output_type": "stream",
     "text": [
      "2020-11-03 11:43:31 INFO: Loading these models for language: en (English):\n",
      "=======================\n",
      "| Processor | Package |\n",
      "-----------------------\n",
      "| tokenize  | ewt     |\n",
      "| pos       | ewt     |\n",
      "=======================\n",
      "\n",
      "2020-11-03 11:43:31 INFO: Use device: cpu\n",
      "2020-11-03 11:43:31 INFO: Loading: tokenize\n",
      "2020-11-03 11:43:31 INFO: Loading: pos\n",
      "2020-11-03 11:43:32 INFO: Done loading processors!\n"
     ]
    },
    {
     "name": "stdout",
     "output_type": "stream",
     "text": [
      "[\n",
      "  [\n",
      "    {\n",
      "      \"id\": 1,\n",
      "      \"text\": \"Barack\",\n",
      "      \"upos\": \"PROPN\",\n",
      "      \"xpos\": \"NNP\",\n",
      "      \"feats\": \"Number=Sing\",\n",
      "      \"misc\": \"start_char=0|end_char=6\"\n",
      "    },\n",
      "    {\n",
      "      \"id\": 2,\n",
      "      \"text\": \"Obama\",\n",
      "      \"upos\": \"PROPN\",\n",
      "      \"xpos\": \"NNP\",\n",
      "      \"feats\": \"Number=Sing\",\n",
      "      \"misc\": \"start_char=7|end_char=12\"\n",
      "    },\n",
      "    {\n",
      "      \"id\": 3,\n",
      "      \"text\": \"was\",\n",
      "      \"upos\": \"AUX\",\n",
      "      \"xpos\": \"VBD\",\n",
      "      \"feats\": \"Mood=Ind|Number=Sing|Person=3|Tense=Past|VerbForm=Fin\",\n",
      "      \"misc\": \"start_char=13|end_char=16\"\n",
      "    },\n",
      "    {\n",
      "      \"id\": 4,\n",
      "      \"text\": \"born\",\n",
      "      \"upos\": \"VERB\",\n",
      "      \"xpos\": \"VBN\",\n",
      "      \"feats\": \"Tense=Past|VerbForm=Part|Voice=Pass\",\n",
      "      \"misc\": \"start_char=17|end_char=21\"\n",
      "    },\n",
      "    {\n",
      "      \"id\": 5,\n",
      "      \"text\": \"in\",\n",
      "      \"upos\": \"ADP\",\n",
      "      \"xpos\": \"IN\",\n",
      "      \"misc\": \"start_char=22|end_char=24\"\n",
      "    },\n",
      "    {\n",
      "      \"id\": 6,\n",
      "      \"text\": \"Hawaii\",\n",
      "      \"upos\": \"PROPN\",\n",
      "      \"xpos\": \"NNP\",\n",
      "      \"feats\": \"Number=Sing\",\n",
      "      \"misc\": \"start_char=25|end_char=31\"\n",
      "    },\n",
      "    {\n",
      "      \"id\": 7,\n",
      "      \"text\": \".\",\n",
      "      \"upos\": \"PUNCT\",\n",
      "      \"xpos\": \".\",\n",
      "      \"misc\": \"start_char=31|end_char=32\"\n",
      "    }\n",
      "  ]\n",
      "]\n"
     ]
    }
   ],
   "source": [
    "nlp = stanza.Pipeline('en', processors='tokenize,pos', use_gpu=True, pos_batch_size=3000) # Build the pipeline, specify part-of-speech processor's batch size\n",
    "doc = nlp(\"Barack Obama was born in Hawaii.\") # Run the pipeline on the input text\n",
    "print(doc) # Look at the result"
   ]
  },
  {
   "cell_type": "code",
   "execution_count": null,
   "metadata": {},
   "outputs": [],
   "source": []
  },
  {
   "cell_type": "code",
   "execution_count": 12,
   "metadata": {},
   "outputs": [],
   "source": [
    "nlp = stanza.Pipeline(lang='en', processors='tokenize,ner,lemma')\n",
    "doc = nlp(\"Oscar, how about you give us our first number?\")\n",
    "print(*[f'entity: {ent.text}\\ttype: {ent.type}' for ent in doc.ents], sep='\\n')"
   ]
  },
  {
   "cell_type": "code",
   "execution_count": 37,
   "metadata": {},
   "outputs": [
    {
     "ename": "NameError",
     "evalue": "name 'lemma' is not defined",
     "output_type": "error",
     "traceback": [
      "\u001b[0;31m---------------------------------------------------------------------------\u001b[0m",
      "\u001b[0;31mNameError\u001b[0m                                 Traceback (most recent call last)",
      "\u001b[0;32m<ipython-input-37-e20d70c72fd4>\u001b[0m in \u001b[0;36m<module>\u001b[0;34m\u001b[0m\n\u001b[0;32m----> 1\u001b[0;31m \u001b[0mprint\u001b[0m\u001b[0;34m(\u001b[0m\u001b[0;34m*\u001b[0m\u001b[0;34m[\u001b[0m\u001b[0;34mf'token: {token.text}\\tner: {token.ner}\\tlemma: {lemma}'\u001b[0m \u001b[0;32mfor\u001b[0m \u001b[0msent\u001b[0m \u001b[0;32min\u001b[0m \u001b[0mdoc\u001b[0m\u001b[0;34m.\u001b[0m\u001b[0msentences\u001b[0m \u001b[0;32mfor\u001b[0m \u001b[0mtoken\u001b[0m \u001b[0;32min\u001b[0m \u001b[0msent\u001b[0m\u001b[0;34m.\u001b[0m\u001b[0mtokens\u001b[0m\u001b[0;34m]\u001b[0m\u001b[0;34m,\u001b[0m \u001b[0msep\u001b[0m\u001b[0;34m=\u001b[0m\u001b[0;34m'\\n'\u001b[0m\u001b[0;34m)\u001b[0m\u001b[0;34m\u001b[0m\u001b[0;34m\u001b[0m\u001b[0m\n\u001b[0m",
      "\u001b[0;32m<ipython-input-37-e20d70c72fd4>\u001b[0m in \u001b[0;36m<listcomp>\u001b[0;34m(.0)\u001b[0m\n\u001b[0;32m----> 1\u001b[0;31m \u001b[0mprint\u001b[0m\u001b[0;34m(\u001b[0m\u001b[0;34m*\u001b[0m\u001b[0;34m[\u001b[0m\u001b[0;34mf'token: {token.text}\\tner: {token.ner}\\tlemma: {lemma}'\u001b[0m \u001b[0;32mfor\u001b[0m \u001b[0msent\u001b[0m \u001b[0;32min\u001b[0m \u001b[0mdoc\u001b[0m\u001b[0;34m.\u001b[0m\u001b[0msentences\u001b[0m \u001b[0;32mfor\u001b[0m \u001b[0mtoken\u001b[0m \u001b[0;32min\u001b[0m \u001b[0msent\u001b[0m\u001b[0;34m.\u001b[0m\u001b[0mtokens\u001b[0m\u001b[0;34m]\u001b[0m\u001b[0;34m,\u001b[0m \u001b[0msep\u001b[0m\u001b[0;34m=\u001b[0m\u001b[0;34m'\\n'\u001b[0m\u001b[0;34m)\u001b[0m\u001b[0;34m\u001b[0m\u001b[0;34m\u001b[0m\u001b[0m\n\u001b[0m",
      "\u001b[0;31mNameError\u001b[0m: name 'lemma' is not defined"
     ]
    }
   ],
   "source": [
    "print(*[f'token: {token.text}\\tner: {token.ner}\\tlemma: {token.lemma}' for sent in doc.sentences for token in sent.tokens], sep='\\n')"
   ]
  },
  {
   "cell_type": "code",
   "execution_count": null,
   "metadata": {},
   "outputs": [],
   "source": [
    "text = \"Chris Manning is a nice person. Chris wrote a simple sentence. He also gives oranges to people.\"\n",
    "with CoreNLPClient(\n",
    "        annotators=['tokenize','ssplit','pos','lemma','ner', 'parse', 'depparse'],\n",
    "        timeout=30000,\n",
    "        memory='16G') as client:\n",
    "\n",
    "    # Use tokensregex patterns to find who wrote a sentence.\n",
    "    pattern = '([ner: PERSON]+) /wrote/ /an?/ []{0,3} /sentence|article/'\n",
    "    matches = client.tokensregex(text, pattern)\n",
    "    # sentences contains a list with matches for each sentence.\n",
    "    print(len(matches[\"sentences\"])) # prints: 3\n",
    "    # length tells you whether or not there are any matches in this\n",
    "    print(matches[\"sentences\"][1][\"length\"]) # prints: 1\n",
    "    # You can access matches like most regex groups.\n",
    "    print(matches[\"sentences\"][1][\"0\"][\"text\"]) # prints: \"Chris wrote a simple sentence\"\n",
    "    print(matches[\"sentences\"][1][\"0\"][\"1\"][\"text\"]) # prints: \"Chris\""
   ]
  },
  {
   "cell_type": "code",
   "execution_count": 31,
   "metadata": {},
   "outputs": [
    {
     "ename": "NameError",
     "evalue": "name 'tokensregex' is not defined",
     "output_type": "error",
     "traceback": [
      "\u001b[0;31m---------------------------------------------------------------------------\u001b[0m",
      "\u001b[0;31mNameError\u001b[0m                                 Traceback (most recent call last)",
      "\u001b[0;32m<ipython-input-31-ec87380f4324>\u001b[0m in \u001b[0;36m<module>\u001b[0;34m\u001b[0m\n\u001b[1;32m      1\u001b[0m \u001b[0;31m# Use tokensregex patterns to find who wrote a sentence.\u001b[0m\u001b[0;34m\u001b[0m\u001b[0;34m\u001b[0m\u001b[0;34m\u001b[0m\u001b[0m\n\u001b[1;32m      2\u001b[0m \u001b[0mpattern\u001b[0m \u001b[0;34m=\u001b[0m \u001b[0;34m'([ner: PERSON]+) /wrote/ /an?/ []{0,3} /sentence|article/'\u001b[0m\u001b[0;34m\u001b[0m\u001b[0;34m\u001b[0m\u001b[0m\n\u001b[0;32m----> 3\u001b[0;31m \u001b[0mmatches\u001b[0m \u001b[0;34m=\u001b[0m \u001b[0mtokensregex\u001b[0m\u001b[0;34m(\u001b[0m\u001b[0mtext\u001b[0m\u001b[0;34m,\u001b[0m \u001b[0mpattern\u001b[0m\u001b[0;34m)\u001b[0m\u001b[0;34m\u001b[0m\u001b[0;34m\u001b[0m\u001b[0m\n\u001b[0m",
      "\u001b[0;31mNameError\u001b[0m: name 'tokensregex' is not defined"
     ]
    }
   ],
   "source": [
    "# Use tokensregex patterns to find who wrote a sentence.\n",
    "pattern = '([ner: PERSON]+) /wrote/ /an?/ []{0,3} /sentence|article/'\n",
    "matches = tokensregex(text, pattern)"
   ]
  },
  {
   "cell_type": "code",
   "execution_count": 30,
   "metadata": {},
   "outputs": [
    {
     "ename": "NameError",
     "evalue": "name 'matches' is not defined",
     "output_type": "error",
     "traceback": [
      "\u001b[0;31m---------------------------------------------------------------------------\u001b[0m",
      "\u001b[0;31mNameError\u001b[0m                                 Traceback (most recent call last)",
      "\u001b[0;32m<ipython-input-30-3d8248b7f321>\u001b[0m in \u001b[0;36m<module>\u001b[0;34m\u001b[0m\n\u001b[1;32m      1\u001b[0m \u001b[0;31m# sentences contains a list with matches for each sentence.\u001b[0m\u001b[0;34m\u001b[0m\u001b[0;34m\u001b[0m\u001b[0;34m\u001b[0m\u001b[0m\n\u001b[0;32m----> 2\u001b[0;31m \u001b[0mprint\u001b[0m\u001b[0;34m(\u001b[0m\u001b[0mlen\u001b[0m\u001b[0;34m(\u001b[0m\u001b[0mmatches\u001b[0m\u001b[0;34m[\u001b[0m\u001b[0;34m\"sentences\"\u001b[0m\u001b[0;34m]\u001b[0m\u001b[0;34m)\u001b[0m\u001b[0;34m)\u001b[0m \u001b[0;31m# prints: 3\u001b[0m\u001b[0;34m\u001b[0m\u001b[0;34m\u001b[0m\u001b[0m\n\u001b[0m\u001b[1;32m      3\u001b[0m \u001b[0;34m\u001b[0m\u001b[0m\n\u001b[1;32m      4\u001b[0m \u001b[0;31m# length tells you whether or not there are any matches in this\u001b[0m\u001b[0;34m\u001b[0m\u001b[0;34m\u001b[0m\u001b[0;34m\u001b[0m\u001b[0m\n\u001b[1;32m      5\u001b[0m \u001b[0mprint\u001b[0m\u001b[0;34m(\u001b[0m\u001b[0mmatches\u001b[0m\u001b[0;34m[\u001b[0m\u001b[0;34m\"sentences\"\u001b[0m\u001b[0;34m]\u001b[0m\u001b[0;34m[\u001b[0m\u001b[0;36m1\u001b[0m\u001b[0;34m]\u001b[0m\u001b[0;34m[\u001b[0m\u001b[0;34m\"length\"\u001b[0m\u001b[0;34m]\u001b[0m\u001b[0;34m)\u001b[0m \u001b[0;31m# prints: 1\u001b[0m\u001b[0;34m\u001b[0m\u001b[0;34m\u001b[0m\u001b[0m\n",
      "\u001b[0;31mNameError\u001b[0m: name 'matches' is not defined"
     ]
    }
   ],
   "source": [
    "\n",
    "# sentences contains a list with matches for each sentence.\n",
    "print(len(matches[\"sentences\"])) # prints: 3\n",
    "\n",
    "# length tells you whether or not there are any matches in this\n",
    "print(matches[\"sentences\"][1][\"length\"]) # prints: 1\n",
    "\n",
    "# You can access matches like most regex groups.\n",
    "print(matches[\"sentences\"][1][\"0\"][\"text\"]) # prints: \"Chris wrote a simple sentence\"\n",
    "print(matches[\"sentences\"][1][\"0\"][\"1\"][\"text\"]) # prints: \"Chris\""
   ]
  },
  {
   "cell_type": "code",
   "execution_count": 29,
   "metadata": {},
   "outputs": [],
   "source": [
    "import stanza"
   ]
  },
  {
   "cell_type": "markdown",
   "metadata": {},
   "source": [
    "# Requirements"
   ]
  },
  {
   "cell_type": "code",
   "execution_count": 38,
   "metadata": {},
   "outputs": [
    {
     "name": "stderr",
     "output_type": "stream",
     "text": [
      "2020-11-03 16:52:04 WARNING: Directory /Users/emlanza/Desktop/KAIU/stanford-corenlp-4.1.0 already exists. Please install CoreNLP to a new directory.\n"
     ]
    }
   ],
   "source": [
    "stanza.install_corenlp(dir=\"/Users/emlanza/Desktop/KAIU/stanford-corenlp-4.1.0\")"
   ]
  },
  {
   "cell_type": "code",
   "execution_count": 55,
   "metadata": {},
   "outputs": [],
   "source": [
    "!export CORENLP_HOME=/Users/emlanza/Desktop/KAIU/stanford-corenlp-4.1.0"
   ]
  },
  {
   "cell_type": "code",
   "execution_count": 42,
   "metadata": {},
   "outputs": [
    {
     "name": "stderr",
     "output_type": "stream",
     "text": [
      "2020-11-03 16:53:54 INFO: Downloading english models (version 4.1.0) into directory /Users/emlanza/Desktop/KAIU/stanford-corenlp-4.1.0...\n",
      "Downloading http://nlp.stanford.edu/software/stanford-corenlp-4.1.0-models-english.jar: 100%|██████████| 671M/671M [18:07<00:00, 617kB/s]   \n"
     ]
    }
   ],
   "source": [
    "stanza.download_corenlp_models(model='english', version='4.1.0', dir=\"/Users/emlanza/Desktop/KAIU/stanford-corenlp-4.1.0\")"
   ]
  },
  {
   "cell_type": "markdown",
   "metadata": {},
   "source": [
    "# Programa"
   ]
  },
  {
   "cell_type": "code",
   "execution_count": 5,
   "metadata": {},
   "outputs": [],
   "source": [
    "from stanza.server import CoreNLPClient"
   ]
  },
  {
   "cell_type": "code",
   "execution_count": 6,
   "metadata": {},
   "outputs": [],
   "source": [
    "import os\n",
    "corenlp_dir=\"/Users/emlanza/Desktop/KAIU/stanford-corenlp-4.1.0\"\n",
    "os.environ[\"CORENLP_HOME\"] = corenlp_dir"
   ]
  },
  {
   "cell_type": "code",
   "execution_count": 73,
   "metadata": {},
   "outputs": [
    {
     "name": "stdout",
     "output_type": "stream",
     "text": [
      "\u001b[31mCoreNLP-to-HTML.xsl\u001b[m\u001b[m\r\n",
      "LIBRARY-LICENSES\r\n",
      "LICENSE.txt\r\n",
      "Makefile\r\n",
      "README.txt\r\n",
      "RESOURCE-LICENSES\r\n",
      "SemgrexDemo.java\r\n",
      "ShiftReduceDemo.java\r\n",
      "StanfordCoreNlpDemo.java\r\n",
      "StanfordDependenciesManual.pdf\r\n",
      "build.xml\r\n",
      "\u001b[31mcorenlp.sh\u001b[m\u001b[m\r\n",
      "ejml-core-0.38-sources.jar\r\n",
      "ejml-core-0.38.jar\r\n",
      "ejml-ddense-0.38-sources.jar\r\n",
      "ejml-ddense-0.38.jar\r\n",
      "ejml-simple-0.38-sources.jar\r\n",
      "ejml-simple-0.38.jar\r\n",
      "input.txt\r\n",
      "input.txt.out\r\n",
      "input.txt.xml\r\n",
      "javax.activation-api-1.2.0-sources.jar\r\n",
      "javax.activation-api-1.2.0.jar\r\n",
      "javax.json-api-1.0-sources.jar\r\n",
      "javax.json.jar\r\n",
      "jaxb-api-2.4.0-b180830.0359-sources.jar\r\n",
      "jaxb-api-2.4.0-b180830.0359.jar\r\n",
      "jaxb-core-2.3.0.1-sources.jar\r\n",
      "jaxb-core-2.3.0.1.jar\r\n",
      "jaxb-impl-2.4.0-b180830.0438-sources.jar\r\n",
      "jaxb-impl-2.4.0-b180830.0438.jar\r\n",
      "joda-time-2.10.5-sources.jar\r\n",
      "joda-time.jar\r\n",
      "jollyday-0.4.9-sources.jar\r\n",
      "jollyday.jar\r\n",
      "\u001b[34mpatterns\u001b[m\u001b[m\r\n",
      "pom-java-11.xml\r\n",
      "pom.xml\r\n",
      "protobuf.jar\r\n",
      "slf4j-api.jar\r\n",
      "slf4j-simple.jar\r\n",
      "stanford-corenlp-4.1.0-javadoc.jar\r\n",
      "stanford-corenlp-4.1.0-models-english.jar\r\n",
      "stanford-corenlp-4.1.0-models.jar\r\n",
      "stanford-corenlp-4.1.0-sources.jar\r\n",
      "stanford-corenlp-4.1.0.jar\r\n",
      "\u001b[34msutime\u001b[m\u001b[m\r\n",
      "\u001b[34mtokensregex\u001b[m\u001b[m\r\n",
      "xom-1.3.2-sources.jar\r\n",
      "xom.jar\r\n"
     ]
    }
   ],
   "source": [
    "# Examine the CoreNLP installation folder to make sure the installation is successful\n",
    "!ls $CORENLP_HOME"
   ]
  },
  {
   "cell_type": "code",
   "execution_count": 74,
   "metadata": {},
   "outputs": [],
   "source": [
    "# Import client module\n",
    "from stanza.server import CoreNLPClient"
   ]
  },
  {
   "cell_type": "code",
   "execution_count": 84,
   "metadata": {},
   "outputs": [
    {
     "name": "stderr",
     "output_type": "stream",
     "text": [
      "2020-11-03 20:10:42 INFO: Writing properties to tmp file: corenlp_server-a594a5a9bb464cdb.props\n",
      "2020-11-03 20:10:42 INFO: Starting server with command: java -Xmx4G -cp /Users/emlanza/Desktop/KAIU/stanford-corenlp-4.1.0/* edu.stanford.nlp.pipeline.StanfordCoreNLPServer -port 9000 -timeout 60000 -threads 5 -maxCharLength 100000 -quiet True -serverProperties corenlp_server-a594a5a9bb464cdb.props -annotators tokenize,ssplit,pos,lemma,ner -preload -outputFormat serialized\n"
     ]
    },
    {
     "name": "stdout",
     "output_type": "stream",
     "text": [
      "<stanza.server.client.CoreNLPClient object at 0x7fee77f98090>\n"
     ]
    }
   ],
   "source": [
    "# Construct a CoreNLPClient with some basic annotators, a memory allocation of 4GB, and port number 9001\n",
    "client = CoreNLPClient(\n",
    "    annotators=['tokenize','ssplit', 'pos', 'lemma', 'ner'], \n",
    "    memory='4G', \n",
    "    endpoint='http://localhost:9000',\n",
    "    be_quiet=True)\n",
    "print(client)\n",
    "\n",
    "# Start the background server and wait for some time\n",
    "# Note that in practice this is totally optional, as by default the server will be started when the first annotation is performed\n",
    "client.start()\n",
    "import time; time.sleep(10)"
   ]
  },
  {
   "cell_type": "code",
   "execution_count": 78,
   "metadata": {},
   "outputs": [
    {
     "name": "stdout",
     "output_type": "stream",
     "text": [
      "<class 'CoreNLP_pb2.Document'>\n"
     ]
    }
   ],
   "source": [
    "# Annotate some text\n",
    "text = \"Albert Einstein was a German-born theoretical physicist. He developed the theory of relativity.\"\n",
    "document = client.annotate(text)\n",
    "print(type(document))"
   ]
  },
  {
   "cell_type": "code",
   "execution_count": 79,
   "metadata": {},
   "outputs": [
    {
     "name": "stdout",
     "output_type": "stream",
     "text": [
      "Word        \tLemma       \tPOS   \tNER\n",
      "[Sentence 1]\n",
      "Albert      \tAlbert      \tNNP   \tPERSON\n",
      "Einstein    \tEinstein    \tNNP   \tPERSON\n",
      "was         \tbe          \tVBD   \tO\n",
      "a           \ta           \tDT    \tO\n",
      "German      \tgerman      \tJJ    \tNATIONALITY\n",
      "-           \t-           \tHYPH  \tO\n",
      "born        \tbear        \tVBN   \tO\n",
      "theoretical \ttheoretical \tJJ    \tTITLE\n",
      "physicist   \tphysicist   \tNN    \tTITLE\n",
      ".           \t.           \t.     \tO\n",
      "\n",
      "[Sentence 2]\n",
      "He          \the          \tPRP   \tO\n",
      "developed   \tdevelop     \tVBD   \tO\n",
      "the         \tthe         \tDT    \tO\n",
      "theory      \ttheory      \tNN    \tO\n",
      "of          \tof          \tIN    \tO\n",
      "relativity  \trelativity  \tNN    \tO\n",
      ".           \t.           \t.     \tO\n",
      "\n"
     ]
    }
   ],
   "source": [
    "# Iterate over all tokens in all sentences, and print out the word, lemma, pos and ner tags\n",
    "print(\"{:12s}\\t{:12s}\\t{:6s}\\t{}\".format(\"Word\", \"Lemma\", \"POS\", \"NER\"))\n",
    "\n",
    "for i, sent in enumerate(document.sentence):\n",
    "    print(\"[Sentence {}]\".format(i+1))\n",
    "    for t in sent.token:\n",
    "        print(\"{:12s}\\t{:12s}\\t{:6s}\\t{}\".format(t.word, t.lemma, t.pos, t.ner))\n",
    "    print(\"\")"
   ]
  },
  {
   "cell_type": "code",
   "execution_count": 80,
   "metadata": {},
   "outputs": [
    {
     "name": "stdout",
     "output_type": "stream",
     "text": [
      "Mention                       \tType\n",
      "Albert Einstein               \tPERSON\n",
      "German                        \tNATIONALITY\n",
      "theoretical physicist         \tTITLE\n",
      "He                            \tPERSON\n"
     ]
    }
   ],
   "source": [
    "# Iterate over all detected entity mentions\n",
    "print(\"{:30s}\\t{}\".format(\"Mention\", \"Type\"))\n",
    "\n",
    "for sent in document.sentence:\n",
    "    for m in sent.mentions:\n",
    "        print(\"{:30s}\\t{}\".format(m.entityMentionText, m.entityType))"
   ]
  },
  {
   "cell_type": "code",
   "execution_count": 85,
   "metadata": {},
   "outputs": [
    {
     "name": "stdout",
     "output_type": "stream",
     "text": [
      "ps: cmd: keyword not found\r\n"
     ]
    }
   ],
   "source": [
    "# Shut down the background CoreNLP server\n",
    "client.stop()\n",
    "\n",
    "time.sleep(10)\n",
    "!ps -o pid,cmd | grep java"
   ]
  },
  {
   "cell_type": "code",
   "execution_count": 11,
   "metadata": {},
   "outputs": [],
   "source": [
    "print(\"Starting a server with the Python \\\"with\\\" statement...\")\n",
    "\n",
    "with CoreNLPClient(annotators=['tokenize','ssplit', 'pos', 'lemma', 'ner'], \n",
    "                   memory='4G', endpoint='http://localhost:9000', be_quiet=True) as client:\n",
    "    text = \"Albert Einstein was a German-born theoretical physicist.\"\n",
    "    document = client.annotate(text)\n",
    "\n",
    "    print(\"{:30s}\\t{}\".format(\"Mention\", \"Type\"))\n",
    "    for sent in document.sentence:\n",
    "        for m in sent.mentions:\n",
    "            print(\"{:30s}\\t{}\".format(m.entityMentionText, m.entityType))\n",
    "\n",
    "print(\"\\nThe server should be stopped upon exit from the \\\"with\\\" statement.\")"
   ]
  },
  {
   "cell_type": "code",
   "execution_count": 10,
   "metadata": {},
   "outputs": [],
   "source": [
    "with CoreNLPClient(annotators=['tokenize','ssplit', 'pos', 'lemma', 'ner'], \n",
    "                   memory='4G', endpoint='http://localhost:9000', be_quiet=True) as client:\n",
    "    text = \"Chris Manning is a nice person. Chris wrote a simple sentence. He also gives oranges to people.\"\n",
    "\n",
    "    # Use tokensregex patterns to find who wrote a sentence.\n",
    "    pattern = '{}=subject >obj {}=object'\n",
    "    matches = client.tokensregex(text, pattern)\n",
    "\n",
    "    # sentences contains a list with matches for each sentence.\n",
    "    print(len(matches[\"sentences\"])) # prints: 3\n",
    "\n",
    "    # length tells you whether or not there are any matches in this\n",
    "    print(matches[\"sentences\"][1][\"length\"]) # prints: 1\n",
    "    \n",
    "    # You can access matches like most regex groups.\n",
    "    print(matches[\"sentences\"][1][\"0\"][\"text\"]) # prints: \"Chris wrote a simple sentence\"\n",
    "    print(matches[\"sentences\"][1][\"0\"][\"1\"][\"text\"]) # prints: \"Chris\""
   ]
  },
  {
   "cell_type": "code",
   "execution_count": 8,
   "metadata": {},
   "outputs": [],
   "source": [
    "import stanza\n",
    "import stanza.server.semgrex as semgrex\n",
    "\n",
    "# stanza.download(\"en\")\n",
    "nlp = stanza.Pipeline(\"en\", processors=\"tokenize,pos,lemma,depparse\")\n",
    "\n",
    "doc = nlp(\"Banning opal removed all artifact decks from the meta.  I miss playing lantern.\")\n",
    "semgrex_results = semgrex.process_doc(doc,\n",
    "                                      \"{pos:NN}=object <obl {}=action\",\n",
    "                                      \"{cpos:NOUN}=thing <obj {cpos:VERB}=action\")\n",
    "print(semgrex_results)"
   ]
  },
  {
   "cell_type": "code",
   "execution_count": 9,
   "metadata": {},
   "outputs": [],
   "source": [
    "# get noun phrases with tregex\n",
    "def noun_phrases(_client, _text, _annotators=None):\n",
    "    pattern = 'NP'\n",
    "    matches = _client.tregex(_text,pattern,annotators=_annotators)\n",
    "    print(\"\\n\".join([\"\\t\"+sentence[match_id]['spanString'] for sentence in matches['sentences'] for match_id in sentence]))\n",
    "\n",
    "# English example\n",
    "with CoreNLPClient(timeout=30000, memory='16G') as client:\n",
    "    englishText = \"Albert Einstein was a German-born theoretical physicist. He developed the theory of relativity.\"\n",
    "    print('---')\n",
    "    print(englishText)\n",
    "    noun_phrases(client,englishText,_annotators=\"tokenize,ssplit,pos,lemma,parse\")"
   ]
  },
  {
   "cell_type": "code",
   "execution_count": null,
   "metadata": {},
   "outputs": [],
   "source": []
  }
 ],
 "metadata": {
  "colab": {
   "collapsed_sections": [],
   "name": "Stanza-Beginners-Guide.ipynb",
   "provenance": [],
   "toc_visible": true
  },
  "kernelspec": {
   "display_name": "Python 3",
   "language": "python",
   "name": "python3"
  }
 },
 "nbformat": 4,
 "nbformat_minor": 1
}
